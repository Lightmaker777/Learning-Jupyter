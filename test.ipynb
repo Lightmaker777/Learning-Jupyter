{
 "cells": [
  {
   "cell_type": "code",
   "execution_count": 13,
   "metadata": {},
   "outputs": [
    {
     "name": "stdout",
     "output_type": "stream",
     "text": [
      "2023-06-09 10:34:53.188301\n"
     ]
    }
   ],
   "source": [
    "import datetime\n",
    "\n",
    "dir(datetime)\n",
    "\n",
    "now=datetime.datetime.now()\n",
    "\n",
    "print(now)"
   ]
  },
  {
   "cell_type": "code",
   "execution_count": 17,
   "metadata": {},
   "outputs": [
    {
     "name": "stdout",
     "output_type": "stream",
     "text": [
      "date_string = 21 June, 2018\n",
      "type of date_string = <class 'str'>\n",
      "date_object = 2018-06-21 00:00:00\n",
      "type of date_object = <class 'datetime.datetime'>\n"
     ]
    }
   ],
   "source": [
    "from datetime import datetime\n",
    "# I have a date in a string format\n",
    "date_string = \"21 June, 2018\"\n",
    "# I can use it amd print it a string however I need\n",
    "print(\"date_string =\", date_string)\n",
    "print(\"type of date_string =\", type(date_string))\n",
    "# I have many more options and tools if I represent as a datetime/date object\n",
    "date_object = datetime.strptime(date_string, \"%d %B, %Y\")\n",
    "print(\"date_object =\", date_object)\n",
    "print(\"type of date_object =\", type(date_object))"
   ]
  },
  {
   "cell_type": "code",
   "execution_count": 19,
   "metadata": {},
   "outputs": [
    {
     "name": "stdout",
     "output_type": "stream",
     "text": [
      "00:00:00\n",
      "11:34:56\n",
      "11:34:56\n",
      "11:34:56.234566\n"
     ]
    }
   ],
   "source": [
    "from datetime import time\n",
    "# time(hour = 0, minute = 0, second = 0)\n",
    "a = time()\n",
    "print(a)\n",
    "# time(hour, minute and second)\n",
    "b = time(11, 34, 56)\n",
    "print(b)\n",
    "# time(hour, minute and second)\n",
    "c = time(hour = 11, minute = 34, second = 56)\n",
    "print(c)\n",
    "# time(hour, minute, second, microsecond)\n",
    "d = time(11, 34, 56, 234566)\n",
    "print(d)"
   ]
  },
  {
   "cell_type": "code",
   "execution_count": 20,
   "metadata": {},
   "outputs": [
    {
     "name": "stdout",
     "output_type": "stream",
     "text": [
      "hour= 12\n",
      "minute= 45\n",
      "second= 55\n",
      "microsecond= 0\n"
     ]
    }
   ],
   "source": [
    "from datetime import time\n",
    "a=time(12,45,55)\n",
    "print(\"hour=\",a.hour)\n",
    "print(\"minute=\",a.minute)\n",
    "print(\"second=\",a.second)\n",
    "print(\"microsecond=\",a.microsecond)"
   ]
  },
  {
   "cell_type": "code",
   "execution_count": 21,
   "metadata": {},
   "outputs": [
    {
     "name": "stdout",
     "output_type": "stream",
     "text": [
      "1686303998.452029\n",
      "1686304003.4525952\n"
     ]
    }
   ],
   "source": [
    "#using time module\n",
    "import time\n",
    "# ts stores the current time in seconds\n",
    "ts_prior=time.time()\n",
    "print(ts_prior)\n",
    "#sleep for 5 seconds\n",
    "time.sleep(5)\n",
    "# pause execution for 5 seconds\n",
    "ts_after=time.time()\n",
    "# print the correct timestamp\n",
    "print(ts_after)"
   ]
  },
  {
   "cell_type": "code",
   "execution_count": null,
   "metadata": {},
   "outputs": [],
   "source": [
    "# calendars\n",
    "# find time difference\n"
   ]
  },
  {
   "cell_type": "code",
   "execution_count": 23,
   "metadata": {},
   "outputs": [
    {
     "name": "stdout",
     "output_type": "stream",
     "text": [
      "     June 2023\n",
      "Mo Tu We Th Fr Sa Su\n",
      "          1  2  3  4\n",
      " 5  6  7  8  9 10 11\n",
      "12 13 14 15 16 17 18\n",
      "19 20 21 22 23 24 25\n",
      "26 27 28 29 30\n",
      "\n",
      "                                  2023\n",
      "\n",
      "      January                   February                   March\n",
      "Mo Tu We Th Fr Sa Su      Mo Tu We Th Fr Sa Su      Mo Tu We Th Fr Sa Su\n",
      "                   1             1  2  3  4  5             1  2  3  4  5\n",
      " 2  3  4  5  6  7  8       6  7  8  9 10 11 12       6  7  8  9 10 11 12\n",
      " 9 10 11 12 13 14 15      13 14 15 16 17 18 19      13 14 15 16 17 18 19\n",
      "16 17 18 19 20 21 22      20 21 22 23 24 25 26      20 21 22 23 24 25 26\n",
      "23 24 25 26 27 28 29      27 28                     27 28 29 30 31\n",
      "30 31\n",
      "\n",
      "       April                      May                       June\n",
      "Mo Tu We Th Fr Sa Su      Mo Tu We Th Fr Sa Su      Mo Tu We Th Fr Sa Su\n",
      "                1  2       1  2  3  4  5  6  7                1  2  3  4\n",
      " 3  4  5  6  7  8  9       8  9 10 11 12 13 14       5  6  7  8  9 10 11\n",
      "10 11 12 13 14 15 16      15 16 17 18 19 20 21      12 13 14 15 16 17 18\n",
      "17 18 19 20 21 22 23      22 23 24 25 26 27 28      19 20 21 22 23 24 25\n",
      "24 25 26 27 28 29 30      29 30 31                  26 27 28 29 30\n",
      "\n",
      "        July                     August                  September\n",
      "Mo Tu We Th Fr Sa Su      Mo Tu We Th Fr Sa Su      Mo Tu We Th Fr Sa Su\n",
      "                1  2          1  2  3  4  5  6                   1  2  3\n",
      " 3  4  5  6  7  8  9       7  8  9 10 11 12 13       4  5  6  7  8  9 10\n",
      "10 11 12 13 14 15 16      14 15 16 17 18 19 20      11 12 13 14 15 16 17\n",
      "17 18 19 20 21 22 23      21 22 23 24 25 26 27      18 19 20 21 22 23 24\n",
      "24 25 26 27 28 29 30      28 29 30 31               25 26 27 28 29 30\n",
      "31\n",
      "\n",
      "      October                   November                  December\n",
      "Mo Tu We Th Fr Sa Su      Mo Tu We Th Fr Sa Su      Mo Tu We Th Fr Sa Su\n",
      "                   1             1  2  3  4  5                   1  2  3\n",
      " 2  3  4  5  6  7  8       6  7  8  9 10 11 12       4  5  6  7  8  9 10\n",
      " 9 10 11 12 13 14 15      13 14 15 16 17 18 19      11 12 13 14 15 16 17\n",
      "16 17 18 19 20 21 22      20 21 22 23 24 25 26      18 19 20 21 22 23 24\n",
      "23 24 25 26 27 28 29      27 28 29 30               25 26 27 28 29 30 31\n",
      "30 31\n",
      "\n",
      "False\n"
     ]
    }
   ],
   "source": [
    "# import module\n",
    "import calendar\n",
    "yy=2023\n",
    "mm=6\n",
    "# display the calendar\n",
    "print(calendar.month(yy,mm))\n",
    "# display the calendar\n",
    "print(calendar.calendar(yy))\n",
    "# display the calendar\n",
    "print(calendar.isleap(yy))\n",
    "print(calendar.leapdays(2000,))"
   ]
  },
  {
   "cell_type": "code",
   "execution_count": 24,
   "metadata": {},
   "outputs": [
    {
     "ename": "SyntaxError",
     "evalue": "incomplete input (2102786218.py, line 17)",
     "output_type": "error",
     "traceback": [
      "\u001b[0;36m  Cell \u001b[0;32mIn [24], line 17\u001b[0;36m\u001b[0m\n\u001b[0;31m    def get_local_timestamp_str_with_format():\u001b[0m\n\u001b[0m                                              ^\u001b[0m\n\u001b[0;31mSyntaxError\u001b[0m\u001b[0;31m:\u001b[0m incomplete input\n"
     ]
    }
   ],
   "source": [
    "# timestamps examples\n",
    "# time.time()\n",
    "# time.ctime()\n",
    "# time.localtime()\n",
    "\n",
    "import time\n",
    "\n",
    "def get_timestamp():\n",
    "    return time.time()\n",
    "\n",
    "def get_local_timestamp():\n",
    "    return time.localtime()\n",
    "\n",
    "def get_local_timestamp_str():\n",
    "    return time.ctime()\n",
    "\n",
    "def get_local_timestamp_str_with_format():\n"
   ]
  },
  {
   "cell_type": "code",
   "execution_count": 2,
   "metadata": {},
   "outputs": [
    {
     "name": "stdout",
     "output_type": "stream",
     "text": [
      "Try again with a higher number.\n",
      "Try again with a lower number.\n",
      "Congratulations! You guessed the correct number in 3 attempts.\n"
     ]
    }
   ],
   "source": [
    "import random\n",
    "\n",
    "def guess_number():\n",
    "    secret_number = random.randint(1, 10)\n",
    "    attempts = 0\n",
    "\n",
    "    while True:\n",
    "        guess = int(input(\"Guess a number between 1 and 10: \"))\n",
    "        attempts += 1\n",
    "\n",
    "        if guess == secret_number:\n",
    "            print(\"Congratulations! You guessed the correct number in\", attempts, \"attempts.\")\n",
    "            break\n",
    "        elif guess < secret_number:\n",
    "            print(\"Try again with a higher number.\")\n",
    "        else:\n",
    "            print(\"Try again with a lower number.\")\n",
    "\n",
    "guess_number()\n"
   ]
  },
  {
   "cell_type": "code",
   "execution_count": 12,
   "metadata": {},
   "outputs": [
    {
     "name": "stdout",
     "output_type": "stream",
     "text": [
      "The number of days between 2000-1-1 and 2002-1-1 is 731\n"
     ]
    }
   ],
   "source": [
    "from datetime import datetime\n",
    "\n",
    "date1 = input(\"Enter the first date (YYYY-MM-DD): \")\n",
    "date2 = input(\"Enter the second date (YYYY-MM-DD): \")\n",
    "\n",
    "date_format = \"%Y-%m-%d\"\n",
    "date1_obj = datetime.strptime(date1, date_format)\n",
    "date2_obj = datetime.strptime(date2, date_format)\n",
    "\n",
    "difference = abs((date2_obj - date1_obj).days)\n",
    "\n",
    "print(\"The number of days between\", date1, \"and\", date2, \"is\", difference)\n",
    "\n",
    "\n"
   ]
  },
  {
   "cell_type": "code",
   "execution_count": 14,
   "metadata": {},
   "outputs": [
    {
     "name": "stdout",
     "output_type": "stream",
     "text": [
      "The number of hours between 2023-06-09 15:30:00 and 2023-06-09 16:30:00 is: 1.0 hours\n"
     ]
    }
   ],
   "source": [
    "from datetime import datetime\n",
    "\n",
    "# Prompt the user to input the two datetimes\n",
    "datetime1_str = input(\"Enter the first datetime (YYYY-MM-DD HH:MM:SS): \")\n",
    "datetime2_str = input(\"Enter the second datetime (YYYY-MM-DD HH:MM:SS): \")\n",
    "\n",
    "# Convert the input strings to datetime objects\n",
    "datetime_format = \"%Y-%m-%d %H:%M:%S\"\n",
    "datetime1 = datetime.strptime(datetime1_str, datetime_format)\n",
    "datetime2 = datetime.strptime(datetime2_str, datetime_format)\n",
    "\n",
    "# Calculate the timedelta between the two datetimes\n",
    "timedelta = datetime2 - datetime1\n",
    "\n",
    "# Calculate the number of hours\n",
    "num_hours = timedelta.total_seconds() / 3600\n",
    "\n",
    "# Display the result\n",
    "print(\"The number of hours between\", datetime1_str, \"and\", datetime2_str, \"is:\", num_hours, \"hours\")\n"
   ]
  }
 ],
 "metadata": {
  "kernelspec": {
   "display_name": "Python 3",
   "language": "python",
   "name": "python3"
  },
  "language_info": {
   "codemirror_mode": {
    "name": "ipython",
    "version": 3
   },
   "file_extension": ".py",
   "mimetype": "text/x-python",
   "name": "python",
   "nbconvert_exporter": "python",
   "pygments_lexer": "ipython3",
   "version": "3.11.2"
  },
  "orig_nbformat": 4
 },
 "nbformat": 4,
 "nbformat_minor": 2
}
